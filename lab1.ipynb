{
 "cells": [
  {
   "cell_type": "code",
   "execution_count": 6,
   "id": "c42bac0c",
   "metadata": {
    "scrolled": true
   },
   "outputs": [
    {
     "name": "stdout",
     "output_type": "stream",
     "text": [
      "[2 3 4 5 6]\n"
     ]
    }
   ],
   "source": [
    "import numpy as np\n",
    "l1=[2,3,4,5,6]\n",
    "arr1=np.array(l1)\n",
    "print(arr1)"
   ]
  },
  {
   "cell_type": "code",
   "execution_count": 16,
   "id": "3b589bc3",
   "metadata": {
    "scrolled": true
   },
   "outputs": [
    {
     "name": "stdout",
     "output_type": "stream",
     "text": [
      "[{10, 11, 12, 13, 14} {24, 21, 22, 23}]\n"
     ]
    }
   ],
   "source": [
    "import numpy as np\n",
    "A=np.array([{10,11,12,13,14},{21,22,23,24}])\n",
    "print(A)"
   ]
  },
  {
   "cell_type": "code",
   "execution_count": 17,
   "id": "f8171a32",
   "metadata": {},
   "outputs": [
    {
     "name": "stdout",
     "output_type": "stream",
     "text": [
      "[[0 0]\n",
      " [0 0]\n",
      " [0 0]]\n"
     ]
    }
   ],
   "source": [
    "import numpy as np\n",
    "arr = np.empty([3,2], dtype=int)\n",
    "print(arr)"
   ]
  },
  {
   "cell_type": "code",
   "execution_count": 18,
   "id": "f22f067d",
   "metadata": {},
   "outputs": [
    {
     "name": "stdout",
     "output_type": "stream",
     "text": [
      "[0. 0. 0. 0. 0.]\n"
     ]
    }
   ],
   "source": [
    "import numpy as np\n",
    "arr1=np.zeros(5)\n",
    "print(arr1)"
   ]
  },
  {
   "cell_type": "code",
   "execution_count": 19,
   "id": "c5814b9b",
   "metadata": {},
   "outputs": [
    {
     "name": "stdout",
     "output_type": "stream",
     "text": [
      "[1. 1. 1. 1. 1.]\n"
     ]
    }
   ],
   "source": [
    "import numpy as np\n",
    "arr1=np.ones(5)\n",
    "print(arr1)"
   ]
  },
  {
   "cell_type": "code",
   "execution_count": 28,
   "id": "042eff14",
   "metadata": {},
   "outputs": [
    {
     "name": "stdout",
     "output_type": "stream",
     "text": [
      "[ 4  7 10 13 16 19]\n"
     ]
    }
   ],
   "source": [
    "import numpy as np\n",
    "arr1 = np.arange(4,20,3)\n",
    "print(arr1)"
   ]
  },
  {
   "cell_type": "code",
   "execution_count": 29,
   "id": "e16850fb",
   "metadata": {},
   "outputs": [
    {
     "name": "stdout",
     "output_type": "stream",
     "text": [
      "[[1 2 3]\n",
      " [4 5 6]]\n"
     ]
    }
   ],
   "source": [
    "import numpy as np\n",
    "A = np.array([1,2,3,4,5,6])\n",
    "B = np.reshape(A,(2,3))\n",
    "print(B)"
   ]
  },
  {
   "cell_type": "code",
   "execution_count": 30,
   "id": "e0235882",
   "metadata": {},
   "outputs": [
    {
     "name": "stdout",
     "output_type": "stream",
     "text": [
      "[5 2 7 3 9]\n",
      "[2 7]\n",
      "[5 2]\n",
      "[3 9]\n"
     ]
    }
   ],
   "source": [
    "import numpy as np\n",
    "data = np.array([5,2,7,3,9])\n",
    "print(data[:])\n",
    "print(data[1:3])\n",
    "print(data[:2])\n",
    "print(data[-2:])"
   ]
  },
  {
   "cell_type": "code",
   "execution_count": 34,
   "id": "2d77975d",
   "metadata": {},
   "outputs": [
    {
     "name": "stdout",
     "output_type": "stream",
     "text": [
      "b [[5 6 7 8]]\n",
      "b [[6]]\n",
      "b [[1 2]\n",
      " [5 6]]\n",
      "b [[2 3]\n",
      " [6 7]]\n",
      "b [[ 7  8]\n",
      " [11 12]]\n"
     ]
    }
   ],
   "source": [
    "import numpy as np\n",
    "a=np.array([[1,2,3,4],[5,6,7,8],[9,10,11,12]])\n",
    "b=a[1:2,0:4]\n",
    "print('b',b)\n",
    "b=a[1:2,1:2]\n",
    "print('b',b)\n",
    "b=a[:2,0:2]\n",
    "print('b',b)\n",
    "b=a[:2,1:3]\n",
    "print('b',b)\n",
    "b=a[1:3,2:4]\n",
    "print('b',b)"
   ]
  },
  {
   "cell_type": "code",
   "execution_count": 2,
   "id": "3456809c",
   "metadata": {},
   "outputs": [
    {
     "name": "stdout",
     "output_type": "stream",
     "text": [
      "[[2 3]\n",
      " [6 7]]\n",
      "[[20  3]\n",
      " [ 6  7]]\n",
      "[[ 1 20  3  4]\n",
      " [ 5  6  7  8]\n",
      " [ 9 10 11 12]]\n"
     ]
    }
   ],
   "source": [
    "import numpy as np\n",
    "a = np.array([[1,2,3,4],[5,6,7,8],[9,10,11,12]])\n",
    "b = a[0:2,1:3]\n",
    "print(b)\n",
    "b[0,0] = 20\n",
    "print(b)\n",
    "print(a)\n",
    "              "
   ]
  },
  {
   "cell_type": "code",
   "execution_count": 1,
   "id": "97d23b45",
   "metadata": {},
   "outputs": [
    {
     "name": "stdout",
     "output_type": "stream",
     "text": [
      "[[7 5 9]\n",
      " [2 6 8]]\n",
      "[[17 15 19]\n",
      " [12 16 18]]\n"
     ]
    }
   ],
   "source": [
    "import numpy as np\n",
    "a = np.array([[7,5,9],[2,6,8]])\n",
    "print(a)\n",
    "b=np.array([10,10,10])\n",
    "c=np.add(a,b)\n",
    "print(c)\n"
   ]
  },
  {
   "cell_type": "code",
   "execution_count": 2,
   "id": "8a60211e",
   "metadata": {},
   "outputs": [
    {
     "name": "stdout",
     "output_type": "stream",
     "text": [
      "[[7 5 9]\n",
      " [2 6 8]]\n",
      "[[17 15 19]\n",
      " [12 16 18]]\n",
      "[[-3 -5 -1]\n",
      " [-8 -4 -2]]\n"
     ]
    }
   ],
   "source": [
    "import numpy as np\n",
    "a = np.array([[7,5,9],[2,6,8]])\n",
    "print(a)\n",
    "b=np.array([10,10,10])\n",
    "c=np.add(a,b)\n",
    "print(c)\n",
    "d=np.subtract(a,b)\n",
    "print(d)\n"
   ]
  },
  {
   "cell_type": "code",
   "execution_count": 4,
   "id": "a4d3a54f",
   "metadata": {},
   "outputs": [
    {
     "name": "stdout",
     "output_type": "stream",
     "text": [
      "6\n",
      "1\n",
      "3\n",
      "2.0\n",
      "2.0\n"
     ]
    }
   ],
   "source": [
    "import numpy as np\n",
    "x = np.array([1,2,3])\n",
    "print(x.sum())\n",
    "print(x.min())\n",
    "print(x.max())\n",
    "print(x.mean())\n",
    "print(np.median(x))"
   ]
  },
  {
   "cell_type": "code",
   "execution_count": 5,
   "id": "1e74f28f",
   "metadata": {},
   "outputs": [
    {
     "data": {
      "image/png": "[encoded data removed]",
      "text/plain": [
       "<Figure size 432x288 with 1 Axes>"
      ]
     },
     "metadata": {
      "needs_background": "light"
     },
     "output_type": "display_data"
    }
   ],
   "source": [
    "import matplotlib.pyplot as plt\n",
    "plt.plot([1,2,3],[5,7,4])\n",
    "plt.show()"
   ]
  },
  {
   "cell_type": "code",
   "execution_count": 7,
   "id": "6d9d0792",
   "metadata": {},
   "outputs": [
    {
     "data": {
      "image/png": "[encoded data removed]",
      "text/plain": [
       "<Figure size 432x288 with 1 Axes>"
      ]
     },
     "metadata": {
      "needs_background": "light"
     },
     "output_type": "display_data"
    }
   ],
   "source": [
    "import matplotlib.pyplot as plt\n",
    "x=[1,2,3]\n",
    "y=[5,7,4]\n",
    "plt.plot(x,y,label = 'first line')\n",
    "x2=[1,2,3]\n",
    "y2=[10,11,14]\n",
    "plt.plot(x2,y2,label = 'second line')\n",
    "plt.xlabel('plot  number')\n",
    "plt.ylabel('important variables')\n",
    "plt.title('new graph')\n",
    "plt.legend()\n",
    "plt.show()"
   ]
  },
  {
   "cell_type": "code",
   "execution_count": 37,
   "id": "8e718d8e",
   "metadata": {},
   "outputs": [
    {
     "data": {
      "image/png": "[encoded data removed]",
      "text/plain": [
       "<Figure size 432x288 with 3 Axes>"
      ]
     },
     "metadata": {
      "needs_background": "light"
     },
     "output_type": "display_data"
    }
   ],
   "source": [
    "import matplotlib.pyplot as plt\n",
    "import numpy as np \n",
    "t=np.arange(0.0,20.0,1)\n",
    "s=[1,2,3,4,5,6,7,8,9,10,11,12,13,14,15,16,17,18,19,20]\n",
    "s2=[4,5,6,7,8,9,10,11,12,13,14,15,16,17,18,19,20,21,22,23]\n",
    "s3=[3,4,5,6,7,8,9,10,11,12,13,14,15,16,17,18,19,20,21,22]\n",
    "plt.subplot(1,3,1)\n",
    "plt.plot(t,s)\n",
    "plt.ylabel('value')\n",
    "plt.title('first chart')\n",
    "plt.grid(True)\n",
    "\n",
    "plt.subplot(1,3,2)\n",
    "plt.plot(t,s2)\n",
    "plt.xlabel('item (s)')\n",
    "plt.ylabel('value')\n",
    "plt.title('\\n\\n second chart' )\n",
    "plt.grid(True)\n",
    "\n",
    "\n",
    "plt.subplot(1,3,3)\n",
    "plt.plot(t,s3)\n",
    "plt.xlabel('item (s)')\n",
    "plt.ylabel('value')\n",
    "plt.title('\\n\\n Third chart' )\n",
    "plt.grid(True)\n",
    "plt.show()"
   ]
  },
  {
   "cell_type": "code",
   "execution_count": 9,
   "id": "87ac2a75",
   "metadata": {},
   "outputs": [
    {
     "data": {
      "image/png": "[encoded data removed]",
      "text/plain": [
       "<Figure size 432x288 with 1 Axes>"
      ]
     },
     "metadata": {
      "needs_background": "light"
     },
     "output_type": "display_data"
    }
   ],
   "source": [
    "import matplotlib.pyplot as plt\n",
    "data_students=[5,6,15,25,35,45,55]\n",
    "plt.hist(data_students,bins=[0,10,20,30,40,50,60],weights=[10,10,1,0,33,6,8],edgecolor=\"red\")\n",
    "plt.show()"
   ]
  },
  {
   "cell_type": "code",
   "execution_count": 13,
   "id": "97626a41",
   "metadata": {},
   "outputs": [
    {
     "data": {
      "image/png": "[encoded data removed]",
      "text/plain": [
       "<Figure size 432x288 with 1 Axes>"
      ]
     },
     "metadata": {
      "needs_background": "light"
     },
     "output_type": "display_data"
    }
   ],
   "source": [
    "import numpy as np\n",
    "import matplotlib.pyplot as plt\n",
    "data_student=[1,11,21,31,41,51]\n",
    "plt.hist(data_student,bins=[0,10,20,30,40,50,60],weights=[10,1,0,33,6,8],facecolor='black',edgecolor=\"red\")\n",
    "plt.title(\"Histogram for students Data\")\n",
    "plt.xlabel('value')\n",
    "plt.ylabel('Frequency')\n",
    "plt.savefig(\"student.png\")\n",
    "plt.show()                    "
   ]
  },
  {
   "cell_type": "code",
   "execution_count": 14,
   "id": "de4c523a",
   "metadata": {},
   "outputs": [
    {
     "data": {
      "image/png": "[encoded data removed]",
      "text/plain": [
       "<Figure size 432x288 with 1 Axes>"
      ]
     },
     "metadata": {
      "needs_background": "light"
     },
     "output_type": "display_data"
    }
   ],
   "source": [
    "import matplotlib.pyplot as plt\n",
    "list1 = [43,76,34,63,56,82,87,85,64,87,95,23,14,67,25,23,85]\n",
    "list2 = [34,45,34,23,43,76,26,18,24,74,23,56,23,23,34,56,32,23]\n",
    "data = [list1,list2]\n",
    "plt.boxplot(data)\n",
    "plt.show()"
   ]
  },
  {
   "cell_type": "code",
   "execution_count": 2,
   "id": "b98a9aaa",
   "metadata": {},
   "outputs": [
    {
     "name": "stdout",
     "output_type": "stream",
     "text": [
      "   calories  duration\n",
      "0       420        50\n",
      "1       380        40\n",
      "2       390        45\n"
     ]
    }
   ],
   "source": [
    "import pandas as pd\n",
    "data={\"calories\":[420,380,390],\"duration\":[50,40,45]}\n",
    "df=pd.DataFrame(data)\n",
    "print(df)"
   ]
  },
  {
   "cell_type": "code",
   "execution_count": 6,
   "id": "898e2e5a",
   "metadata": {},
   "outputs": [
    {
     "name": "stdout",
     "output_type": "stream",
     "text": [
      "       calories  duration\n",
      "day 1       420        50\n",
      "day 2       380        40\n",
      "day 3       390        45\n"
     ]
    }
   ],
   "source": [
    "import pandas as pd\n",
    "data={\"calories\":[420,380,390],\"duration\":[50,40,45]}\n",
    "df=pd.DataFrame(data,index=[\"day 1\",\"day 2\",\"day 3\"])\n",
    "print(df)\n"
   ]
  },
  {
   "cell_type": "code",
   "execution_count": 1,
   "id": "06b3479d",
   "metadata": {},
   "outputs": [
    {
     "name": "stdout",
     "output_type": "stream",
     "text": [
      "                                                    Name      Brand  \\\n",
      "0                   Glass Water Tumbler Set - Acme Elite       Treo   \n",
      "1                                            Papad Plain   NILGIRIS   \n",
      "2                                            Papad Plain   NILGIRIS   \n",
      "3                                     Smart Kit With Bag       Doms   \n",
      "4      6.2 kg Top Loading Fully Automatic Washing Mac...      KORYO   \n",
      "...                                                  ...        ...   \n",
      "26940                                  Cashew Value Pack     KARMIQ   \n",
      "26941                       Mid Rise Printed Dhoti Pants     DJ & C   \n",
      "26942                                       Ujjaini Poha      ektaa   \n",
      "26943                                       Ujjaini Poha      ektaa   \n",
      "26944                        Button Closer Ladies Wallet  Ivory Tag   \n",
      "\n",
      "           Price  DiscountedPrice  \\\n",
      "0            550            299.0   \n",
      "1             85             42.5   \n",
      "2             45             22.5   \n",
      "3            500            499.0   \n",
      "4      15,000.00          10490.0   \n",
      "...          ...              ...   \n",
      "26940        135            109.0   \n",
      "26941        749            374.5   \n",
      "26942         90             66.0   \n",
      "26943         45             39.0   \n",
      "26944        499            499.0   \n",
      "\n",
      "                                       BreadCrumbs         Category  \\\n",
      "0                     Serveware / Dining & Serving        Serveware   \n",
      "1                 Packaged Food / Pickles & Papads    Packaged Food   \n",
      "2                 Packaged Food / Pickles & Papads    Packaged Food   \n",
      "3                Stationery / Art & Craft Supplies       Stationery   \n",
      "4      Home Appliances / Home & Kitchen Appliances  Home Appliances   \n",
      "...                                            ...              ...   \n",
      "26940  Staples / Dry Fruits & Nuts / Festive Store          Staples   \n",
      "26941                                         Kids             Kids   \n",
      "26942                      Staples / Other Cereals          Staples   \n",
      "26943                      Staples / Other Cereals          Staples   \n",
      "26944                                        Women            Women   \n",
      "\n",
      "                     SubCategory   Quantity  \\\n",
      "0               Dining & Serving   6*300 ml   \n",
      "1               Pickles & Papads      200 g   \n",
      "2               Pickles & Papads     100 ml   \n",
      "3           Art & Craft Supplies      1 Pcs   \n",
      "4      Home & Kitchen Appliances      1 pcs   \n",
      "...                          ...        ...   \n",
      "26940              Festive Store      100 g   \n",
      "26941                        NaN  15-16 Yrs   \n",
      "26942              Other Cereals       1 kg   \n",
      "26943              Other Cereals      500 g   \n",
      "26944                        NaN          S   \n",
      "\n",
      "                                             Description  \\\n",
      "0                                                          \n",
      "1      Nilgiris plain papad can be enjoyed when you'r...   \n",
      "2      Nilgiris plain papad can be enjoyed when you'r...   \n",
      "3                                                          \n",
      "4                                                          \n",
      "...                                                  ...   \n",
      "26940                                                      \n",
      "26941  Up the style quotient of your little girl's ca...   \n",
      "26942                                                      \n",
      "26943                                                      \n",
      "26944                                                      \n",
      "\n",
      "                                         LongDescription  \n",
      "0                 Design:Made from premium quality Glass  \n",
      "1      Nilgiris plain papad can be enjoyed when you'r...  \n",
      "2      Nilgiris plain papad can be enjoyed when you'r...  \n",
      "3               Smart Kit With Bag     Ideal for gifting  \n",
      "4      One Touch Smart Wash Button8 Wash ProgramsMagi...  \n",
      "...                                                  ...  \n",
      "26940  Karmiq Cashews come with a naturally sweet fla...  \n",
      "26941  Fabric & Care:Made of 100% Cotton FabricDo not...  \n",
      "26942  Ektaa brings to you authentic foods from diver...  \n",
      "26943  Ektaa brings to you authentic foods from diver...  \n",
      "26944  a. BI-Fold Wallet with coin Pocket.b.  5 card ...  \n",
      "\n",
      "[26945 rows x 10 columns]\n"
     ]
    }
   ],
   "source": [
    "import pandas as pd\n",
    "df = pd.read_csv('BigBazaar.csv')\n",
    "print(df)"
   ]
  },
  {
   "cell_type": "code",
   "execution_count": 16,
   "id": "907aedff",
   "metadata": {},
   "outputs": [
    {
     "name": "stdout",
     "output_type": "stream",
     "text": [
      "   CUSTOMERID  GENDER  AGE  ANNUAL INCOME(K$)  SPENDING SCORE\n",
      "0           1    MALE   20                 10              30\n",
      "1           2  FEMALE   21                 20              50\n",
      "2           3  FEMALE   19                 30              48\n",
      "3           4    MALE   18                 10              84\n",
      "4           5    MALE   25                 25              90\n",
      "5           6  FEMALE   26                 60              65\n",
      "6           7    MALE   32                 70              32\n",
      "7           8    MALE   41                 15              46\n",
      "8           9  FEMALE   20                 21              12\n",
      "9          10    MALE   19                 22              56\n"
     ]
    }
   ],
   "source": [
    "import pandas as pd\n",
    "data_dict={'CUSTOMERID':[1,2,3,4,5,6,7,8,9,10],'GENDER':[\"MALE\",\"FEMALE\",\"FEMALE\",\"MALE\",\"MALE\",\"FEMALE\",\"MALE\",\"MALE\",\"FEMALE\",\"MALE\"],'AGE':[20,21,19,18,25,26,32,41,20,19],'ANNUAL INCOME(K$)':[10,20,30,10,25,60,70,15,21,22],'SPENDING SCORE':[30,50,48,84,90,65,32,46,12,56]}\n",
    "data=pd.DataFrame(data_dict)\n",
    "data.to_csv(\"Customers.csv\")\n",
    "print(data)"
   ]
  },
  {
   "cell_type": "code",
   "execution_count": 17,
   "id": "7dae3fbe",
   "metadata": {},
   "outputs": [
    {
     "name": "stdout",
     "output_type": "stream",
     "text": [
      "   CustomerID  Gender  Age  Annual Income(k$)  Spending Score\n",
      "0           1    Male   20                 10              30\n",
      "1           2  Female   21                 20              50\n",
      "2           3  Female   19                 30              48\n",
      "3           4    Male   18                 10              84\n",
      "4           5    Male   25                 25              90\n",
      "5           6  Female   26                 60              65\n",
      "6           7    Male   32                 70              32\n",
      "7           8    Male   41                 15              46\n",
      "8           9  Female   20                 21              12\n",
      "9          10    Male   19                 22              56\n",
      "   CustomerID  Gender  Age  Annual Income(k$)  Spending Score\n",
      "0          11    Male   23                 10              38\n",
      "1          12  Female   33                 20              59\n",
      "2          13  Female   19                 30              48\n",
      "3          14    Male   18                 10              99\n",
      "4          15    Male   25                 25              94\n",
      "5          16  Female   26                 60              66\n",
      "6          17    Male   32                 70              44\n",
      "7          18    Male   41                 15              51\n",
      "8          19  Female   20                 21              12\n",
      "9          20    Male   19                 22              56\n",
      "    Unnamed: 0  CustomerID  Gender  Age  Annual Income(k$)  Spending Score\n",
      "0            0           1    Male   20                 10              30\n",
      "1            1           2  Female   21                 20              50\n",
      "2            2           3  Female   19                 30              48\n",
      "3            3           4    Male   18                 10              84\n",
      "4            4           5    Male   25                 25              90\n",
      "5            5           6  Female   26                 60              65\n",
      "6            6           7    Male   32                 70              32\n",
      "7            7           8    Male   41                 15              46\n",
      "8            8           9  Female   20                 21              12\n",
      "9            9          10    Male   19                 22              56\n",
      "10           0          11    Male   23                 10              38\n",
      "11           1          12  Female   33                 20              59\n",
      "12           2          13  Female   19                 30              48\n",
      "13           3          14    Male   18                 10              99\n",
      "14           4          15    Male   25                 25              94\n",
      "15           5          16  Female   26                 60              66\n",
      "16           6          17    Male   32                 70              44\n",
      "17           7          18    Male   41                 15              51\n",
      "18           8          19  Female   20                 21              12\n",
      "19           9          20    Male   19                 22              56\n"
     ]
    }
   ],
   "source": [
    "\n",
    "import pandas as pd\n",
    "data_dict1 = {'CustomerID': [1, 2, 3, 4, 5, 6, 7, 8, 9, 10],\n",
    "              \n",
    "             'Gender': [\"Male\", \"Female\", \"Female\", \"Male\",\n",
    "                        \"Male\", \"Female\", \"Male\", \"Male\",\n",
    "                        \"Female\", \"Male\"],\n",
    "              \n",
    "             'Age': [20, 21, 19, 18, 25, 26, 32, 41, 20, 19],\n",
    "              \n",
    "             'Annual Income(k$)': [10, 20, 30, 10, 25, 60, 70,\n",
    "                                   15, 21, 22],\n",
    "              \n",
    "             'Spending Score': [30, 50, 48, 84, 90, 65, 32, 46,\n",
    "                                12, 56]}\n",
    " \n",
    "\n",
    "data1 = pd.DataFrame(data_dict1)\n",
    " \n",
    "\n",
    "data1.to_csv(\"Customers1.csv\")\n",
    " \n",
    "print(data1)\n",
    "\n",
    "data_dict2 = {'CustomerID': [11, 12, 13, 14, 15, 16, 17, 18, 19, 20],\n",
    "              \n",
    "             'Gender': [\"Male\", \"Female\", \"Female\", \"Male\",\n",
    "                        \"Male\", \"Female\", \"Male\", \"Male\",\n",
    "                        \"Female\", \"Male\"],\n",
    "              \n",
    "             'Age': [23, 33, 19, 18, 25, 26, 32, 41, 20, 19],\n",
    "              \n",
    "             'Annual Income(k$)': [10, 20, 30, 10, 25, 60, 70,\n",
    "                                   15, 21, 22],\n",
    "              \n",
    "             'Spending Score': [38, 59, 48, 99, 94, 66, 44, 51,\n",
    "                                12, 56]}\n",
    " \n",
    "\n",
    "data2 = pd.DataFrame(data_dict2)\n",
    " \n",
    "\n",
    "data2.to_csv(\"Customers2.csv\")\n",
    " \n",
    "\n",
    "print(data2)\n",
    "\n",
    "df = pd.concat(\n",
    "    map(pd.read_csv, ['Customers1.csv', 'Customers2.csv']), ignore_index=True)\n",
    "print(df)"
   ]
  },
  {
   "cell_type": "code",
   "execution_count": 1,
   "id": "39400236",
   "metadata": {},
   "outputs": [
    {
     "ename": "SyntaxError",
     "evalue": "invalid character in identifier (<ipython-input-1-946713307a4a>, line 1)",
     "output_type": "error",
     "traceback": [
      "\u001b[1;36m  File \u001b[1;32m\"<ipython-input-1-946713307a4a>\"\u001b[1;36m, line \u001b[1;32m1\u001b[0m\n\u001b[1;33m    import numpy as np\u001b[0m\n\u001b[1;37m                     ^\u001b[0m\n\u001b[1;31mSyntaxError\u001b[0m\u001b[1;31m:\u001b[0m invalid character in identifier\n"
     ]
    }
   ],
   "source": [
    "import numpy as np\n",
    "\n",
    "a = np.array([1, 2, 3])  \n",
    "print(\"type: %s\" %type(a))           \n",
    "print(\"shape: %s\" %a.shape)         \n",
    "print(a[0], a[1], a[2])   \n",
    "a[0] = 5                \n",
    "print(a)                  \n",
    "\n",
    "b = np.array([[1,2,3],[4,5,6]])    \n",
    "print(\"\\n shape of b:\",b.shape)                     \n",
    "print(b[0, 0], b[0, 1], b[1, 0])   \n",
    "\n",
    "a = np.zeros((2,2))  \n",
    "print(\"All zeros matrix:\\n  %s\" %a)              \n",
    "                  \n",
    "\n",
    "b = np.ones((1,2))    \n",
    "print(\"\\nAll ones matrix:\\n  %s\" %b)              \n",
    "\n",
    "d = np.eye(2)         \n",
    "print(\"\\n identity matrix: \\n%s\"%d)              \n",
    "                   \n",
    "\n",
    "e = np.random.random((2,2))  \n",
    "print(\"\\n random matrix: \\n%s\"%e)\n",
    "#vectorized sum\n",
    "print(\"Vectorized sum example\\n\")\n",
    "x = np.array([[1,2],[3,4]])\n",
    "print(\"x:\\n %s\" %x)\n",
    "print(\"sum: %s\"%np.sum(x)) \n",
    "print(\"sum axis = 0: %s\" %np.sum(x, axis=0))  \n",
    "print(\" sum axis = 1: %s\" %np.sum(x, axis=1))  \n",
    "\n",
    "\n",
    "a = np.arange(10000)\n",
    "b = np.arange(10000)\n",
    "\n",
    "dp = np.dot(a,b)\n",
    "\n",
    "print(\"Dot product: %s\\n\" %dp)\n",
    "\n",
    "\n",
    "op = np.outer(a,b)\n",
    "print(\"\\n Outer product: %s\\n\" %op)\n",
    "\n",
    "\n",
    "\n",
    "ep = np.multiply(a, b)\n",
    "\n",
    "print(\"\\n Element Wise product: %s \\n\" %ep)\n",
    "\n",
    "(b) Matrix transformation\n",
    "import numpy as np\n",
    "\n",
    "x = np.array([[1,2], [3,4]])\n",
    "print(\"Original x: \\n%s \" %x)    \n",
    "         \n",
    "print(\"\\nTranspose of x: \\n%s\" %x.T) \n",
    "           \n",
    "\n",
    "(c) SVD using python\n",
    "\n",
    "from numpy import array\n",
    "from scipy.linalg import svd\n",
    "\n",
    "A = array([[1, 2], [3, 4], [5, 6]])\n",
    "print(\"A: \\n%s\" %A)\n",
    "\n",
    "U, s, VT = svd(A)\n",
    "print(\"\\nU: \\n%s\" %U)\n",
    "print(\"\\ns: \\n %s\" %s)\n",
    "print(\"\\nV^T: \\n %s\" %VT)"
   ]
  },
  {
   "cell_type": "code",
   "execution_count": 2,
   "id": "979343f1",
   "metadata": {},
   "outputs": [
    {
     "ename": "SyntaxError",
     "evalue": "invalid character in identifier (<ipython-input-2-3835a6853eab>, line 1)",
     "output_type": "error",
     "traceback": [
      "\u001b[1;36m  File \u001b[1;32m\"<ipython-input-2-3835a6853eab>\"\u001b[1;36m, line \u001b[1;32m1\u001b[0m\n\u001b[1;33m    import numpy as np\u001b[0m\n\u001b[1;37m                     ^\u001b[0m\n\u001b[1;31mSyntaxError\u001b[0m\u001b[1;31m:\u001b[0m invalid character in identifier\n"
     ]
    }
   ],
   "source": [
    "import numpy as np\n",
    "\n",
    "a = np.array([1, 2, 3])  \n",
    "print(\"type: %s\" %type(a))           \n",
    "print(\"shape: %s\" %a.shape)         \n",
    "print(a[0], a[1], a[2])   \n",
    "a[0] = 5                \n",
    "print(a)                  \n",
    "\n",
    "b = np.array([[1,2,3],[4,5,6]])    \n",
    "print(\"\\n shape of b:\",b.shape)                     \n",
    "print(b[0, 0], b[0, 1], b[1, 0])   \n",
    "\n",
    "a = np.zeros((2,2))  \n",
    "print(\"All zeros matrix:\\n  %s\" %a)              \n",
    "                  \n",
    "\n",
    "b = np.ones((1,2))    \n",
    "print(\"\\nAll ones matrix:\\n  %s\" %b)              \n",
    "\n",
    "d = np.eye(2)         \n",
    "print(\"\\n identity matrix: \\n%s\"%d)              \n",
    "                   \n",
    "\n",
    "e = np.random.random((2,2))  \n",
    "print(\"\\n random matrix: \\n%s\"%e)\n",
    "#vectorized sum\n",
    "print(\"Vectorized sum example\\n\")\n",
    "x = np.array([[1,2],[3,4]])\n",
    "print(\"x:\\n %s\" %x)\n",
    "print(\"sum: %s\"%np.sum(x)) \n",
    "print(\"sum axis = 0: %s\" %np.sum(x, axis=0))  \n",
    "print(\" sum axis = 1: %s\" %np.sum(x, axis=1))  \n",
    "\n",
    "\n",
    "a = np.arange(10000)\n",
    "b = np.arange(10000)\n",
    "\n",
    "dp = np.dot(a,b)\n",
    "\n",
    "print(\"Dot product: %s\\n\" %dp)\n",
    "\n",
    "\n",
    "op = np.outer(a,b)\n",
    "print(\"\\n Outer product: %s\\n\" %op)\n",
    "\n",
    "\n",
    "\n",
    "ep = np.multiply(a, b)\n",
    "\n",
    "print(\"\\n Element Wise product: %s \\n\" %ep)\n",
    "\n"
   ]
  },
  {
   "cell_type": "code",
   "execution_count": 3,
   "id": "080107da",
   "metadata": {},
   "outputs": [
    {
     "ename": "SyntaxError",
     "evalue": "invalid syntax (<ipython-input-3-d6a3fd6b5bed>, line 1)",
     "output_type": "error",
     "traceback": [
      "\u001b[1;36m  File \u001b[1;32m\"<ipython-input-3-d6a3fd6b5bed>\"\u001b[1;36m, line \u001b[1;32m1\u001b[0m\n\u001b[1;33m    (a) Matrix operations (using vectorization)\u001b[0m\n\u001b[1;37m        ^\u001b[0m\n\u001b[1;31mSyntaxError\u001b[0m\u001b[1;31m:\u001b[0m invalid syntax\n"
     ]
    }
   ],
   "source": [
    "(a) Matrix operations (using vectorization)\n",
    "import numpy as np\n",
    "\n",
    "a = np.array([1, 2, 3])   # Create a rank 1 array\n",
    "print(\"type: %s\" %type(a))            # Prints \"<class 'numpy.ndarray'>\"\n",
    "print(\"shape: %s\" %a.shape)            # Prints \"(3,)\"\n",
    "print(a[0], a[1], a[2])   # Prints \"1 2 3\"\n",
    "a[0] = 5                  # Change an element of the array\n",
    "print(a)                  # Prints \"[5, 2, 3]\"\n",
    "\n",
    "b = np.array([[1,2,3],[4,5,6]])    # Create a rank 2 array\n",
    "print(\"\\n shape of b:\",b.shape)                     # Prints \"(2, 3)\"\n",
    "print(b[0, 0], b[0, 1], b[1, 0])   # Prints \"1 2 4\"\n",
    "\n",
    "a = np.zeros((2,2))   # Create an array of all zeros\n",
    "print(\"All zeros matrix:\\n  %s\" %a)              # Prints \"[[ 0.  0.]\n",
    "                      #          [ 0.  0.]]\"\n",
    "\n",
    "b = np.ones((1,2))    # Create an array of all ones\n",
    "print(\"\\nAll ones matrix:\\n  %s\" %b)              # Prints \"[[ 1.  1.]]\"\n",
    "\n",
    "d = np.eye(2)         # Create a 2x2 identity matrix\n",
    "print(\"\\n identity matrix: \\n%s\"%d)              # Prints \"[[ 1.  0.]\n",
    "                      #          [ 0.  1.]]\"\n",
    "\n",
    "e = np.random.random((2,2))  # Create an array filled with random values\n",
    "print(\"\\n random matrix: \\n%s\"%e)\n",
    "#vectorized sum\n",
    "print(\"Vectorized sum example\\n\")\n",
    "x = np.array([[1,2],[3,4]])\n",
    "print(\"x:\\n %s\" %x)\n",
    "print(\"sum: %s\"%np.sum(x))  # Compute sum of all elements; prints \"10\"\n",
    "print(\"sum axis = 0: %s\" %np.sum(x, axis=0))  # Compute sum of each column; prints \"[4 6]\"\n",
    "print(\" sum axis = 1: %s\" %np.sum(x, axis=1))  # Compute sum of each row; prints \"[3 7]\"\n",
    "\n",
    "#matrix dot product\n",
    "a = np.arange(10000)\n",
    "b = np.arange(10000)\n",
    "\n",
    "dp = np.dot(a,b)\n",
    "\n",
    "print(\"Dot product: %s\\n\" %dp)\n",
    "\n",
    "#outer product\n",
    "op = np.outer(a,b)\n",
    "print(\"\\n Outer product: %s\\n\" %op)\n",
    "\n",
    "#elementwise product\n",
    "\n",
    "ep = np.multiply(a, b)\n",
    "\n",
    "print(\"\\n Element Wise product: %s \\n\" %ep)\n",
    "\n",
    "(b) Matrix transformation\n",
    "import numpy as np\n",
    "\n",
    "x = np.array([[1,2], [3,4]])\n",
    "print(\"Original x: \\n%s \" %x)    # Prints \"[[1 2]\n",
    "            #          [3 4]]\"\n",
    "print(\"\\nTranspose of x: \\n%s\" %x.T)  # Prints \"[[1 3]\n",
    "            #          [2 4]]\"\n",
    "\n",
    "(c) SVD using python\n",
    "# Singular-value decomposition\n",
    "from numpy import array\n",
    "from scipy.linalg import svd\n",
    "# define a matrix\n",
    "A = array([[1, 2], [3, 4], [5, 6]])\n",
    "print(\"A: \\n%s\" %A)\n",
    "# SVD\n",
    "U, s, VT = svd(A)\n",
    "print(\"\\nU: \\n%s\" %U)\n",
    "print(\"\\ns: \\n %s\" %s)\n",
    "print(\"\\nV^T: \\n %s\" %VT)"
   ]
  },
  {
   "cell_type": "code",
   "execution_count": 4,
   "id": "ed76897e",
   "metadata": {},
   "outputs": [
    {
     "ename": "SyntaxError",
     "evalue": "invalid character in identifier (<ipython-input-4-3835a6853eab>, line 1)",
     "output_type": "error",
     "traceback": [
      "\u001b[1;36m  File \u001b[1;32m\"<ipython-input-4-3835a6853eab>\"\u001b[1;36m, line \u001b[1;32m1\u001b[0m\n\u001b[1;33m    import numpy as np\u001b[0m\n\u001b[1;37m                     ^\u001b[0m\n\u001b[1;31mSyntaxError\u001b[0m\u001b[1;31m:\u001b[0m invalid character in identifier\n"
     ]
    }
   ],
   "source": [
    "import numpy as np\n",
    "\n",
    "a = np.array([1, 2, 3])  \n",
    "print(\"type: %s\" %type(a))           \n",
    "print(\"shape: %s\" %a.shape)         \n",
    "print(a[0], a[1], a[2])   \n",
    "a[0] = 5                \n",
    "print(a)                  \n",
    "\n",
    "b = np.array([[1,2,3],[4,5,6]])    \n",
    "print(\"\\n shape of b:\",b.shape)                     \n",
    "print(b[0, 0], b[0, 1], b[1, 0])   \n",
    "\n",
    "a = np.zeros((2,2))  \n",
    "print(\"All zeros matrix:\\n  %s\" %a)              \n",
    "                  \n",
    "\n",
    "b = np.ones((1,2))    \n",
    "print(\"\\nAll ones matrix:\\n  %s\" %b)              \n",
    "\n",
    "d = np.eye(2)         \n",
    "print(\"\\n identity matrix: \\n%s\"%d)              \n",
    "                   \n",
    "\n",
    "e = np.random.random((2,2))  \n",
    "print(\"\\n random matrix: \\n%s\"%e)\n",
    "#vectorized sum\n",
    "print(\"Vectorized sum example\\n\")\n",
    "x = np.array([[1,2],[3,4]])\n",
    "print(\"x:\\n %s\" %x)\n",
    "print(\"sum: %s\"%np.sum(x)) \n",
    "print(\"sum axis = 0: %s\" %np.sum(x, axis=0))  \n",
    "print(\" sum axis = 1: %s\" %np.sum(x, axis=1))  \n",
    "\n",
    "\n",
    "a = np.arange(10000)\n",
    "b = np.arange(10000)\n",
    "\n",
    "dp = np.dot(a,b)\n",
    "\n",
    "print(\"Dot product: %s\\n\" %dp)\n",
    "\n",
    "\n",
    "op = np.outer(a,b)\n",
    "print(\"\\n Outer product: %s\\n\" %op)\n",
    "\n",
    "\n",
    "\n",
    "ep = np.multiply(a, b)\n",
    "\n",
    "print(\"\\n Element Wise product: %s \\n\" %ep)\n",
    "\n"
   ]
  },
  {
   "cell_type": "code",
   "execution_count": null,
   "id": "70fa977f",
   "metadata": {},
   "outputs": [],
   "source": []
  }
 ],
 "metadata": {
  "kernelspec": {
   "display_name": "Python 3",
   "language": "python",
   "name": "python3"
  },
  "language_info": {
   "codemirror_mode": {
    "name": "ipython",
    "version": 3
   },
   "file_extension": ".py",
   "mimetype": "text/x-python",
   "name": "python",
   "nbconvert_exporter": "python",
   "pygments_lexer": "ipython3",
   "version": "3.8.8"
  }
 },
 "nbformat": 4,
 "nbformat_minor": 5
}
